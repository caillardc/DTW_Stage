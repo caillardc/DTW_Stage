{
 "cells": [
  {
   "cell_type": "code",
   "execution_count": 1,
   "id": "4868616c",
   "metadata": {},
   "outputs": [],
   "source": [
    "import numpy as np\n",
    "import seaborn as sns"
   ]
  },
  {
   "cell_type": "code",
   "execution_count": 2,
   "id": "a1854948",
   "metadata": {},
   "outputs": [
    {
     "ename": "NameError",
     "evalue": "name 'tf' is not defined",
     "output_type": "error",
     "traceback": [
      "\u001b[1;31m---------------------------------------------------------------------------\u001b[0m",
      "\u001b[1;31mNameError\u001b[0m                                 Traceback (most recent call last)",
      "\u001b[1;32m~\\AppData\\Local\\Temp/ipykernel_6048/1446213182.py\u001b[0m in \u001b[0;36m<module>\u001b[1;34m\u001b[0m\n\u001b[1;32m----> 1\u001b[1;33m \u001b[1;32mdef\u001b[0m \u001b[0mDTW_TF\u001b[0m\u001b[1;33m(\u001b[0m\u001b[0mS\u001b[0m\u001b[1;33m,\u001b[0m \u001b[0mS1\u001b[0m\u001b[1;33m,\u001b[0m \u001b[0md\u001b[0m\u001b[1;33m=\u001b[0m\u001b[0mtf\u001b[0m\u001b[1;33m.\u001b[0m\u001b[0mmath\u001b[0m\u001b[1;33m.\u001b[0m\u001b[0msubtract\u001b[0m\u001b[1;33m)\u001b[0m\u001b[1;33m:\u001b[0m\u001b[1;33m\u001b[0m\u001b[1;33m\u001b[0m\u001b[0m\n\u001b[0m\u001b[0;32m      2\u001b[0m     \u001b[0mn\u001b[0m \u001b[1;33m=\u001b[0m \u001b[0mmax\u001b[0m\u001b[1;33m(\u001b[0m\u001b[0mS\u001b[0m\u001b[1;33m.\u001b[0m\u001b[0mshape\u001b[0m\u001b[1;33m[\u001b[0m\u001b[1;36m0\u001b[0m\u001b[1;33m]\u001b[0m\u001b[1;33m+\u001b[0m\u001b[1;36m1\u001b[0m\u001b[1;33m,\u001b[0m \u001b[0mS1\u001b[0m\u001b[1;33m.\u001b[0m\u001b[0mshape\u001b[0m\u001b[1;33m[\u001b[0m\u001b[1;36m0\u001b[0m\u001b[1;33m]\u001b[0m\u001b[1;33m+\u001b[0m\u001b[1;36m1\u001b[0m\u001b[1;33m)\u001b[0m\u001b[1;33m\u001b[0m\u001b[1;33m\u001b[0m\u001b[0m\n\u001b[0;32m      3\u001b[0m     \u001b[0mcost_matrix\u001b[0m \u001b[1;33m=\u001b[0m \u001b[1;33m[\u001b[0m\u001b[1;33m]\u001b[0m\u001b[1;33m\u001b[0m\u001b[1;33m\u001b[0m\u001b[0m\n\u001b[0;32m      4\u001b[0m     \u001b[0mcost_mat\u001b[0m \u001b[1;33m=\u001b[0m \u001b[0mnp\u001b[0m\u001b[1;33m.\u001b[0m\u001b[0mfull\u001b[0m\u001b[1;33m(\u001b[0m\u001b[1;33m(\u001b[0m\u001b[0mS\u001b[0m\u001b[1;33m.\u001b[0m\u001b[0mshape\u001b[0m\u001b[1;33m[\u001b[0m\u001b[1;36m0\u001b[0m\u001b[1;33m]\u001b[0m\u001b[1;33m+\u001b[0m\u001b[1;36m1\u001b[0m\u001b[1;33m,\u001b[0m \u001b[0mS1\u001b[0m\u001b[1;33m.\u001b[0m\u001b[0mshape\u001b[0m\u001b[1;33m[\u001b[0m\u001b[1;36m0\u001b[0m\u001b[1;33m]\u001b[0m\u001b[1;33m+\u001b[0m\u001b[1;36m1\u001b[0m\u001b[1;33m)\u001b[0m\u001b[1;33m,\u001b[0m \u001b[1;36m123456789\u001b[0m\u001b[1;33m)\u001b[0m\u001b[1;33m\u001b[0m\u001b[1;33m\u001b[0m\u001b[0m\n\u001b[0;32m      5\u001b[0m     \u001b[0mcost_matrix\u001b[0m\u001b[1;33m.\u001b[0m\u001b[0mappend\u001b[0m\u001b[1;33m(\u001b[0m\u001b[1;33m[\u001b[0m\u001b[1;36m0\u001b[0m\u001b[1;33m,\u001b[0m \u001b[1;33m*\u001b[0m\u001b[1;33m(\u001b[0m\u001b[1;33m[\u001b[0m\u001b[1;36m123456789\u001b[0m\u001b[1;33m]\u001b[0m \u001b[1;33m*\u001b[0m \u001b[0mS1\u001b[0m\u001b[1;33m.\u001b[0m\u001b[0mshape\u001b[0m\u001b[1;33m[\u001b[0m\u001b[1;36m0\u001b[0m\u001b[1;33m]\u001b[0m\u001b[1;33m)\u001b[0m\u001b[1;33m]\u001b[0m\u001b[1;33m)\u001b[0m\u001b[1;33m\u001b[0m\u001b[1;33m\u001b[0m\u001b[0m\n",
      "\u001b[1;31mNameError\u001b[0m: name 'tf' is not defined"
     ]
    }
   ],
   "source": [
    "def DTW_TF(S, S1, d=tf.math.subtract):\n",
    "    n = max(S.shape[0]+1, S1.shape[0]+1)\n",
    "    cost_matrix = []\n",
    "    cost_mat = np.full((S.shape[0]+1, S1.shape[0]+1), 123456789)\n",
    "    cost_matrix.append([0, *([123456789] * S1.shape[0])])\n",
    "    for i in range(1,S.shape[0]+1):\n",
    "        sub_cost_j = [123456789]\n",
    "        for j in range(1, len(S1)+1):\n",
    "            dst = abs(S[i-1] - S1[j-1])\n",
    "            mat_dt = [\n",
    "            dst + sub_cost_j[j-1],\n",
    "            dst + cost_matrix[i-1][j-1],\n",
    "            dst + cost_matrix[i-1][j]\n",
    "            ]\n",
    "            sub_cost_j.append(tf.reduce_min(mat_dt))\n",
    "        cost_matrix.append(tf.stack(sub_cost_j))\n",
    "    return tf.stack(cost_matrix), 1"
   ]
  },
  {
   "cell_type": "code",
   "execution_count": 8,
   "id": "7a1ac816",
   "metadata": {},
   "outputs": [],
   "source": [
    "def DTW(S, S1):\n",
    "    n = max(len(S)+1, len(S1)+1)\n",
    "    cost_mat = np.full((len(S)+1,len(S1)+1), np.inf)\n",
    "    cost_mat[0, 0] = 0\n",
    "    for i in range(1,len(S)+1):\n",
    "        for j in range(1, len(S1)+1):\n",
    "            dst = abs(S[i-1] - S1[j-1])\n",
    "            mat_dt = [\n",
    "            dst + cost_mat[i, j-1],\n",
    "            dst + cost_mat[i-1, j-1],\n",
    "            dst + cost_mat[i-1, j]\n",
    "            ]\n",
    "            cost_mat[i, j] = min(mat_dt)\n",
    "    return cost_mat\n",
    "\n",
    "def DTW_minimal_path(cost_mat):\n",
    "    i,j = np.array(cost_mat.shape) - 1\n",
    "    print(i)\n",
    "    cost = cost_mat[i, j]\n",
    "    path=[(i-1,j-1)]\n",
    "    while (i != 0) & (j != 0):\n",
    "        cost_min = np.array([\n",
    "            cost_mat[i-1, j-1],\n",
    "            cost_mat[i, j-1],\n",
    "            cost_mat[i-1, j]\n",
    "            ])\n",
    "        print(cost_min)\n",
    "        n_min = int(np.argmin(cost_min))\n",
    "        if n_min == 0:\n",
    "            path.append((i-2,j-2))\n",
    "            i += -1\n",
    "            j += -1\n",
    "        elif  n_min == 1:\n",
    "            path.append((i-1,j-2))\n",
    "            j += -1\n",
    "        elif  n_min == 2:\n",
    "            path.append((i-2,j-1))\n",
    "            i += -1\n",
    "    return path[:-1], cost\n",
    "\n",
    "        \n",
    "        \n",
    "        \n",
    "        \n",
    "            "
   ]
  },
  {
   "cell_type": "code",
   "execution_count": 9,
   "id": "e8a919d7",
   "metadata": {},
   "outputs": [
    {
     "name": "stdout",
     "output_type": "stream",
     "text": [
      "[[ 0. inf inf inf inf inf inf inf inf]\n",
      " [inf  0.  2.  4.  6.  7.  8.  9.  9.]\n",
      " [inf  2.  0.  0.  0.  1.  4.  7.  9.]\n",
      " [inf  4.  0.  0.  0.  1.  4.  7.  9.]\n",
      " [inf  6.  0.  0.  0.  1.  4.  7.  9.]\n",
      " [inf  7.  1.  1.  1.  0.  2.  4.  5.]\n",
      " [inf  8.  4.  4.  4.  2.  0.  0.  1.]\n",
      " [inf  9.  7.  7.  7.  4.  0.  0.  1.]\n",
      " [inf  9.  9.  9.  9.  5.  1.  1.  0.]]\n",
      "8\n",
      "[0. 1. 1.]\n",
      "[0. 0. 0.]\n",
      "[0. 2. 2.]\n",
      "[0. 1. 1.]\n",
      "[0. 0. 0.]\n",
      "[0. 0. 0.]\n",
      "[0. 2. 2.]\n",
      "[ 0. inf inf]\n"
     ]
    },
    {
     "data": {
      "text/plain": [
       "(8, 2)"
      ]
     },
     "execution_count": 9,
     "metadata": {},
     "output_type": "execute_result"
    }
   ],
   "source": [
    "S = [1, 3, 3, 3,2, 0, 0, 1]\n",
    "S1 = [0, 1, 3, 2, 2, 0, 1]\n",
    "\n",
    "\n",
    "\n",
    "cost_mat_0 = DTW(S, S)\n",
    "print(cost_mat_0)\n",
    "np.array(DTW_minimal_path(cost_mat_0)[0]).shape"
   ]
  },
  {
   "cell_type": "code",
   "execution_count": 10,
   "id": "6a05001c",
   "metadata": {},
   "outputs": [
    {
     "name": "stdout",
     "output_type": "stream",
     "text": [
      "[[ 0. inf inf inf inf inf inf inf]\n",
      " [inf  1.  1.  3.  4.  5.  6.  6.]\n",
      " [inf  4.  3.  1.  2.  3.  6.  8.]\n",
      " [inf  7.  5.  1.  2.  3.  6.  8.]\n",
      " [inf 10.  7.  1.  2.  3.  6.  8.]\n",
      " [inf 12.  8.  2.  1.  1.  3.  4.]\n",
      " [inf 12.  9.  5.  3.  3.  1.  2.]\n",
      " [inf 12. 10.  8.  5.  5.  1.  2.]\n",
      " [inf 13. 10. 10.  6.  6.  2.  1.]]\n",
      "8\n",
      "[1. 2. 2.]\n",
      "[3. 5. 1.]\n",
      "[1. 3. 3.]\n",
      "[2. 1. 3.]\n",
      "[1. 2. 2.]\n",
      "[5. 7. 1.]\n",
      "[3. 5. 1.]\n",
      "[1. 3. 3.]\n",
      "[inf  1. inf]\n",
      "[ 0. inf inf]\n",
      "[(7, 6), (6, 5), (5, 5), (4, 4), (4, 3), (3, 2), (2, 2), (1, 2), (0, 1), (0, 0)] 1.0\n"
     ]
    }
   ],
   "source": [
    "DTW(S, S1)\n",
    "\n",
    "cost_mat_1 = DTW(S, S1)\n",
    "print(cost_mat_1)\n",
    "min_path, cost = DTW_minimal_path(cost_mat_1)\n",
    "print(min_path, cost)"
   ]
  },
  {
   "cell_type": "code",
   "execution_count": 17,
   "id": "1ddfe0f9",
   "metadata": {},
   "outputs": [
    {
     "name": "stdout",
     "output_type": "stream",
     "text": [
      "1.0\n",
      "[(0, 0), (0, 1), (1, 2), (2, 2), (3, 2), (4, 3), (4, 4), (5, 5), (6, 5), (7, 6)]\n"
     ]
    }
   ],
   "source": [
    "from dtaidistance import dtw\n",
    "\n",
    "distance = dtw.distance(S, S1)\n",
    "print(distance)\n",
    "print(dtw.warping_path(S, S1))"
   ]
  },
  {
   "cell_type": "code",
   "execution_count": 16,
   "id": "d30eb202",
   "metadata": {},
   "outputs": [
    {
     "name": "stdout",
     "output_type": "stream",
     "text": [
      "[(0, 0), (0, 1), (1, 2), (2, 2), (3, 2), (4, 3), (4, 4), (5, 5), (6, 5), (7, 6)]\n"
     ]
    }
   ],
   "source": [
    "print(min_path[::-1])"
   ]
  },
  {
   "cell_type": "code",
   "execution_count": 319,
   "id": "72d86009",
   "metadata": {},
   "outputs": [
    {
     "data": {
      "text/plain": [
       "<AxesSubplot:>"
      ]
     },
     "execution_count": 319,
     "metadata": {},
     "output_type": "execute_result"
    },
    {
     "data": {
      "image/png": "[encoded data removed]",
      "text/plain": [
       "<Figure size 432x288 with 1 Axes>"
      ]
     },
     "metadata": {
      "needs_background": "light"
     },
     "output_type": "display_data"
    }
   ],
   "source": [
    "sns.lineplot(\n",
    "   data = [S1, S], markers = True\n",
    ")"
   ]
  },
  {
   "cell_type": "code",
   "execution_count": 18,
   "id": "8a526046",
   "metadata": {},
   "outputs": [
    {
     "data": {
      "text/plain": [
       "(<Figure size 432x288 with 2 Axes>,\n",
       " array([<AxesSubplot:>, <AxesSubplot:>], dtype=object))"
      ]
     },
     "execution_count": 18,
     "metadata": {},
     "output_type": "execute_result"
    },
    {
     "data": {
      "image/png": "[encoded data removed]",
      "text/plain": [
       "<Figure size 432x288 with 2 Axes>"
      ]
     },
     "metadata": {
      "needs_background": "light"
     },
     "output_type": "display_data"
    }
   ],
   "source": [
    "from dtaidistance import dtw_visualisation as dtwvis\n",
    "\n",
    "path = dtw.warping_path(S, S1)\n",
    "dtwvis.plot_warping(S, S1, path)"
   ]
  },
  {
   "cell_type": "code",
   "execution_count": 320,
   "id": "9b1a518e",
   "metadata": {},
   "outputs": [
    {
     "data": {
      "text/plain": [
       "<AxesSubplot:>"
      ]
     },
     "execution_count": 320,
     "metadata": {},
     "output_type": "execute_result"
    },
    {
     "data": {
      "image/png": "[encoded data removed]",
      "text/plain": [
       "<Figure size 432x288 with 1 Axes>"
      ]
     },
     "metadata": {
      "needs_background": "light"
     },
     "output_type": "display_data"
    }
   ],
   "source": [
    "S1_transform, S_transform = zip(*[(S1[ij[1]], S[ij[0]])  for ij in min_path[::-1]])\n",
    "\n",
    "sns.lineplot(\n",
    "   data = [S1_transform, S_transform], markers = True\n",
    ")"
   ]
  },
  {
   "cell_type": "code",
   "execution_count": 4,
   "id": "99a37ab3",
   "metadata": {},
   "outputs": [],
   "source": [
    "import tensorflow as tf\n",
    "from tensorflow import keras\n",
    "from tensorflow.keras import Sequential\n",
    "from tensorflow.keras.layers import Dense, Input, Flatten, Conv1D\n",
    "from tensorflow.keras.utils import to_categorical\n",
    "import numpy as np\n",
    "import os\n",
    "import pandas as pd\n",
    "from dtaidistance import dtw"
   ]
  },
  {
   "cell_type": "code",
   "execution_count": 15,
   "id": "d4c50f24",
   "metadata": {
    "scrolled": true
   },
   "outputs": [
    {
     "data": {
      "text/plain": [
       "<tf.Tensor: shape=(5,), dtype=int32, numpy=array([3, 6, 5, 4, 3])>"
      ]
     },
     "execution_count": 15,
     "metadata": {},
     "output_type": "execute_result"
    }
   ],
   "source": [
    "y = tf.constant([-5, 4, 3, 2, 1])\n",
    "abs(2 + y)"
   ]
  },
  {
   "cell_type": "code",
   "execution_count": 1,
   "id": "26501e86",
   "metadata": {},
   "outputs": [
    {
     "ename": "NameError",
     "evalue": "name 'tf' is not defined",
     "output_type": "error",
     "traceback": [
      "\u001b[1;31m---------------------------------------------------------------------------\u001b[0m",
      "\u001b[1;31mNameError\u001b[0m                                 Traceback (most recent call last)",
      "\u001b[1;32m~\\AppData\\Local\\Temp/ipykernel_13152/1746408932.py\u001b[0m in \u001b[0;36m<module>\u001b[1;34m\u001b[0m\n\u001b[0;32m      1\u001b[0m \u001b[0mi\u001b[0m \u001b[1;33m=\u001b[0m\u001b[1;36m1\u001b[0m\u001b[1;33m\u001b[0m\u001b[1;33m\u001b[0m\u001b[0m\n\u001b[1;32m----> 2\u001b[1;33m \u001b[0mS\u001b[0m \u001b[1;33m=\u001b[0m \u001b[0mtf\u001b[0m\u001b[1;33m.\u001b[0m\u001b[0mconvert_to_tensor\u001b[0m\u001b[1;33m(\u001b[0m\u001b[0mS\u001b[0m\u001b[1;33m)\u001b[0m\u001b[1;33m\u001b[0m\u001b[1;33m\u001b[0m\u001b[0m\n\u001b[0m\u001b[0;32m      3\u001b[0m \u001b[0mS1\u001b[0m \u001b[1;33m=\u001b[0m \u001b[0mtf\u001b[0m\u001b[1;33m.\u001b[0m\u001b[0mconvert_to_tensor\u001b[0m\u001b[1;33m(\u001b[0m\u001b[0mS1\u001b[0m\u001b[1;33m)\u001b[0m\u001b[1;33m\u001b[0m\u001b[1;33m\u001b[0m\u001b[0m\n\u001b[0;32m      4\u001b[0m \u001b[1;33m\u001b[0m\u001b[0m\n\u001b[0;32m      5\u001b[0m \u001b[0mdst\u001b[0m \u001b[1;33m=\u001b[0m \u001b[0mabs\u001b[0m\u001b[1;33m(\u001b[0m\u001b[0mS\u001b[0m\u001b[1;33m[\u001b[0m\u001b[0mi\u001b[0m\u001b[1;33m-\u001b[0m\u001b[1;36m1\u001b[0m\u001b[1;33m]\u001b[0m \u001b[1;33m-\u001b[0m \u001b[1;36m0\u001b[0m\u001b[1;33m)\u001b[0m\u001b[1;33m\u001b[0m\u001b[1;33m\u001b[0m\u001b[0m\n",
      "\u001b[1;31mNameError\u001b[0m: name 'tf' is not defined"
     ]
    }
   ],
   "source": [
    "\n",
    "i =1\n",
    "S = tf.convert_to_tensor(S)\n",
    "S1 = tf.convert_to_tensor(S1)\n",
    "\n",
    "dst = abs(S[i-1] - 0)\n",
    "\n",
    "DTW_TF(S, S1, 1)"
   ]
  },
  {
   "cell_type": "code",
   "execution_count": 1,
   "id": "8bf2a8a8",
   "metadata": {},
   "outputs": [
    {
     "name": "stderr",
     "output_type": "stream",
     "text": [
      "'wget' n'est pas reconnu en tant que commande interne\n",
      "ou externe, un programme ex‚cutable ou un fichier de commandes.\n"
     ]
    }
   ],
   "source": []
  }
 ],
 "metadata": {
  "kernelspec": {
   "display_name": "Python 3 (ipykernel)",
   "language": "python",
   "name": "python3"
  },
  "language_info": {
   "codemirror_mode": {
    "name": "ipython",
    "version": 3
   },
   "file_extension": ".py",
   "mimetype": "text/x-python",
   "name": "python",
   "nbconvert_exporter": "python",
   "pygments_lexer": "ipython3",
   "version": "3.7.3"
  }
 },
 "nbformat": 4,
 "nbformat_minor": 5
}
