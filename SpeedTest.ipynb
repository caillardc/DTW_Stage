{
 "cells": [
  {
   "cell_type": "code",
   "execution_count": 6,
   "metadata": {
    "colab": {
     "base_uri": "https://localhost:8080/"
    },
    "executionInfo": {
     "elapsed": 10199,
     "status": "ok",
     "timestamp": 1646728845164,
     "user": {
      "displayName": "Clément Caillard",
      "photoUrl": "https://lh3.googleusercontent.com/a/default-user=s64",
      "userId": "13950618441165314953"
     },
     "user_tz": -60
    },
    "id": "D4AHkSO1NCKq",
    "outputId": "22cb2a48-e04d-4bba-d52a-eb7ad3c3e55b"
   },
   "outputs": [
    {
     "name": "stdout",
     "output_type": "stream",
     "text": [
      "Requirement already satisfied: dtw-python in c:\\users\\traz\\anaconda3\\envs\\stageenv\\lib\\site-packages (1.1.12)\n",
      "Requirement already satisfied: numpy>=1.19 in c:\\users\\traz\\anaconda3\\envs\\stageenv\\lib\\site-packages (from dtw-python) (1.22.2)\n",
      "Requirement already satisfied: scipy>=1.1 in c:\\users\\traz\\anaconda3\\envs\\stageenv\\lib\\site-packages (from dtw-python) (1.8.0)\n"
     ]
    }
   ],
   "source": [
    "!pip install dtw-python"
   ]
  },
  {
   "cell_type": "code",
   "execution_count": 1,
   "metadata": {
    "colab": {
     "base_uri": "https://localhost:8080/"
    },
    "executionInfo": {
     "elapsed": 4202,
     "status": "ok",
     "timestamp": 1646728849362,
     "user": {
      "displayName": "Clément Caillard",
      "photoUrl": "https://lh3.googleusercontent.com/a/default-user=s64",
      "userId": "13950618441165314953"
     },
     "user_tz": -60
    },
    "id": "eWkUCcoCL_fz",
    "outputId": "25fe4766-dd9f-4c6a-ad8a-c85796edbb49"
   },
   "outputs": [
    {
     "name": "stdout",
     "output_type": "stream",
     "text": [
      "Importing the dtw module. When using in academic works please cite:\n",
      "  T. Giorgino. Computing and Visualizing Dynamic Time Warping Alignments in R: The dtw Package.\n",
      "  J. Stat. Soft., doi:10.18637/jss.v031.i07.\n",
      "\n"
     ]
    }
   ],
   "source": [
    "import tensorflow as tf\n",
    "import numpy as np\n",
    "from dtw import *\n",
    "\n",
    "def euclideanDistance(x, y):\n",
    "    dist = tf.cast(tf.norm(x-y), tf.float32)\n",
    "    #dist = tf.cast(tf.math.sqrt(tf.math.reduce_sum(tf.math.squared_difference(x,y))), tf.float32)\n",
    "    return dist"
   ]
  },
  {
   "cell_type": "code",
   "execution_count": 204,
   "metadata": {
    "executionInfo": {
     "elapsed": 7,
     "status": "ok",
     "timestamp": 1646728849363,
     "user": {
      "displayName": "Clément Caillard",
      "photoUrl": "https://lh3.googleusercontent.com/a/default-user=s64",
      "userId": "13950618441165314953"
     },
     "user_tz": -60
    },
    "id": "JHB9nO1iSH0U"
   },
   "outputs": [],
   "source": [
    "# Classique convolution\n",
    "def convolution_1D(inputs, weights):\n",
    "    output_final = tf.TensorArray(dtype=tf.float32, size=(inputs.shape[-2] - weights.shape[0] + 1))\n",
    "    for j in range(0, inputs.shape[-2] - weights.shape[0] + 1):\n",
    "        output_final = output_final.write(\n",
    "            j,\n",
    "            tf.math.reduce_sum(tf.linalg.matmul(inputs[j:j + weights.shape[0]], weights),axis=[0,1])\n",
    "        )\n",
    "    output_final = output_final.stack()\n",
    "    \n",
    "    return output_final\n",
    "\n",
    "\n",
    "class CNN1D(tf.keras.layers.Conv1D):\n",
    "    def call(self, inputs):\n",
    "        output = tf.map_fn(lambda inp: convolution_1D(inp, self.kernel) + self.bias, inputs)\n",
    "        return tf.nn.relu(output)\n"
   ]
  },
  {
   "cell_type": "markdown",
   "metadata": {
    "id": "vcsoUqMqMgUq"
   },
   "source": [
    "## Fonction DTW Tensor"
   ]
  },
  {
   "cell_type": "code",
   "execution_count": 288,
   "metadata": {
    "executionInfo": {
     "elapsed": 313,
     "status": "ok",
     "timestamp": 1646728849670,
     "user": {
      "displayName": "Clément Caillard",
      "photoUrl": "https://lh3.googleusercontent.com/a/default-user=s64",
      "userId": "13950618441165314953"
     },
     "user_tz": -60
    },
    "id": "KOYngUZmMMEX"
   },
   "outputs": [],
   "source": [
    "#Fonction qui crée la matrice DTW\n",
    "@tf.function\n",
    "def DTW_TF(S, S1, d=euclideanDistance):\n",
    "    cost_matrix = []\n",
    "    cost_matrix.append(tf.cast(tf.stack([0, *([np.inf] * S1.shape[0])]), \"float32\"))\n",
    "    for i in range(1,S.shape[0]+1):\n",
    "        sub_cost_j = [np.inf]\n",
    "        for j in range(1, S1.shape[0]+1):\n",
    "            dst = d(S[i-1], S1[j-1])\n",
    "            mat_dt =[\n",
    "            dst + sub_cost_j[j-1],\n",
    "            dst + cost_matrix[i-1][j-1],\n",
    "            dst + cost_matrix[i-1][j]\n",
    "            ]\n",
    "            sub_cost_j.append(tf.reduce_min(mat_dt))\n",
    "        cost_matrix.append(tf.stack(sub_cost_j))\n",
    "    return DTW_minimal_path(tf.stack(cost_matrix))\n",
    "\n",
    "\n",
    "# Renvoie le chemin dtw optimal en 2 fonctions\n",
    "@tf.function\n",
    "def loop_function(i, j, best_path, compteur, cost_mat):\n",
    "    compteur += 1\n",
    "    cost_min = tf.stack([\n",
    "        cost_mat[i-1, j-1],\n",
    "        cost_mat[i, j-1],\n",
    "        cost_mat[i-1, j]\n",
    "    ])\n",
    "    n_min = tf.math.argmin(cost_min)\n",
    "    i, j = tf.case([\n",
    "        (tf.equal(n_min,0), lambda: (i-1, j-1)),\n",
    "        (tf.equal(n_min,1), lambda: (i, j-1)),\n",
    "        (tf.equal(n_min,2), lambda: (i-1, j))\n",
    "                    ])\n",
    "    best_path = best_path.write(compteur, (i-1, j-1))\n",
    "    return i, j, best_path, compteur, cost_mat\n",
    "\n",
    "@tf.function\n",
    "def DTW_minimal_path(cost_mat):\n",
    "    i = cost_mat.shape[0] - 1\n",
    "    j = cost_mat.shape[1] - 1\n",
    "    compteur = 0\n",
    "    best_path = tf.TensorArray(dtype=tf.int32, size=0, dynamic_size=True)\n",
    "    best_path = best_path.write(compteur, (i-1, j-1))\n",
    "    cond = lambda i, j, best_path, compteur, cost_mat: tf.logical_and(tf.greater(i, 0), tf.greater(j, 0))\n",
    "    i, j, best_path, compteur, cost_mat = tf.while_loop(cond, loop_function, [i, j, best_path, compteur, cost_mat])\n",
    "    best_path = tf.cast(best_path.stack()[:-1][::-1], tf.int64)\n",
    "    \n",
    "    mat_allign = tf.sparse.SparseTensor(indices=best_path,\n",
    "                                       values=tf.ones(tf.shape(best_path)[0], dtype=tf.dtypes.float32), \n",
    "                                       dense_shape=[cost_mat.shape[0] - 1, cost_mat.shape[1] - 1])\n",
    "    return mat_allign\n",
    "\n",
    "@tf.function\n",
    "def slice_alignment(slice_input, weights, minmax='min'):\n",
    "    output_list = tf.TensorArray(dtype=tf.float32, size=(weights.shape[0]))\n",
    "    for filt in range(weights.shape[0]):\n",
    "        # recuperation des \"meilleurs chemins\"\n",
    "        t_weight = weights[filt]\n",
    "        # Iwana DWA\n",
    "        mat_allign = tf.sparse.to_dense(DTW_TF(slice_input, t_weight))\n",
    "        # réalignement\n",
    "        mat_allign = tf.reshape(mat_allign, (slice_input.shape[0], t_weight.shape[0]))\n",
    "        output_list = output_list.write(filt, mat_allign)\n",
    "    w_allign = output_list.stack() @ weights\n",
    "    output = tf.math.reduce_sum(slice_input*weights, axis=[2,1])\n",
    "    return output\n",
    "\n",
    "\n",
    "# Fonction de base pour DWA de iwana\n",
    "@tf.function\n",
    "def conv1D_weight_alignment(inputs, weights):\n",
    "    weights = tf.transpose(weights, perm=[2, 0, 1])\n",
    "    output_final = tf.TensorArray(dtype=tf.float32, size=(inputs.shape[-2] - weights.shape[-2] + 1))\n",
    "    for j in range(0, inputs.shape[-2] - weights.shape[-2] + 1):\n",
    "        res = slice_alignment(tf.slice(inputs, (j, 0), (weights.shape[-2:])), weights)\n",
    "        output_final = output_final.write(j, res)\n",
    "    return output_final.stack()\n",
    "\n",
    "class DWA_CNN(CNN1D):\n",
    "    def call(self, inputs):\n",
    "        output = tf.map_fn(lambda inp: conv1D_weight_alignment(inp, self.kernel) + self.bias, inputs)\n",
    "        return tf.nn.relu(output)\n",
    "\n"
   ]
  },
  {
   "cell_type": "markdown",
   "metadata": {
    "id": "EpoPoxCvMmgK"
   },
   "source": [
    "## Fonction DTW numpy"
   ]
  },
  {
   "cell_type": "code",
   "execution_count": 287,
   "metadata": {
    "executionInfo": {
     "elapsed": 5,
     "status": "ok",
     "timestamp": 1646728849671,
     "user": {
      "displayName": "Clément Caillard",
      "photoUrl": "https://lh3.googleusercontent.com/a/default-user=s64",
      "userId": "13950618441165314953"
     },
     "user_tz": -60
    },
    "id": "1qY_32OtMezL"
   },
   "outputs": [],
   "source": [
    "def dtw_path(s1, s2):\n",
    "    if s1.shape[0] == 1:\n",
    "        return np.ones([1,1]).astype(\"float32\")\n",
    "    dtw_f = dtw(s1,s2, step_pattern=\"symmetric1\")\n",
    "    mat_allign = np.zeros((s1.shape[0], s2.shape[0]))\n",
    "    for ind in zip(dtw_f.index1, dtw_f.index2):\n",
    "        mat_allign[ind] = 1\n",
    "    return mat_allign.astype(\"float32\")\n",
    "\n",
    "@tf.function\n",
    "def tf_function(t_input, t_weight):\n",
    "    T = tf.numpy_function(dtw_path, (t_input, t_weight), [tf.dtypes.float32])\n",
    "    return T\n",
    "\n",
    "@tf.function\n",
    "def slice_alignment_np(slice_input, weights):\n",
    "    output_list = tf.TensorArray(dtype=tf.dtypes.float32, size=(weights.shape[0]))\n",
    "    for filt in range(weights.shape[0]):\n",
    "        t_weight = weights[filt]\n",
    "        mat_allign = tf_function(slice_input, t_weight)\n",
    "        mat_allign = tf.reshape(mat_allign, (slice_input.shape[0], t_weight.shape[0]))\n",
    "        output_list = output_list.write(filt, mat_allign)\n",
    "    w_allign = output_list.stack() @ weights\n",
    "    output = tf.math.reduce_sum(slice_input*weights, axis=[2,1])\n",
    "    return output\n",
    "\n",
    "@tf.function\n",
    "def conv1D_weight_alignment_np(inputs, weights):\n",
    "    weights = tf.transpose(weights, perm=[2, 0, 1])\n",
    "    output_final = tf.TensorArray(dtype=tf.dtypes.float32, size=(inputs.shape[-2] - weights.shape[-2] + 1))\n",
    "    for j in range(0, inputs.shape[-2] - weights.shape[-2] + 1):\n",
    "        res = slice_alignment_np(tf.slice(inputs, (j, 0), (weights.shape[-2:])), weights)\n",
    "        output_final = output_final.write(j, res)\n",
    "    return output_final.stack()\n",
    "\n",
    "class DWA_CNN_np(CNN1D):\n",
    "    def call(self, inputs):\n",
    "        output = tf.map_fn(lambda inp: conv1D_weight_alignment_np(inp, self.kernel) + self.bias, inputs)\n",
    "        return tf.nn.relu(output)\n"
   ]
  },
  {
   "cell_type": "markdown",
   "metadata": {
    "id": "uIqqbLntoIft"
   },
   "source": [
    "# Tensor conv1d "
   ]
  },
  {
   "cell_type": "code",
   "execution_count": 5,
   "metadata": {
    "executionInfo": {
     "elapsed": 4,
     "status": "ok",
     "timestamp": 1646728849671,
     "user": {
      "displayName": "Clément Caillard",
      "photoUrl": "https://lh3.googleusercontent.com/a/default-user=s64",
      "userId": "13950618441165314953"
     },
     "user_tz": -60
    },
    "id": "PuDdm7lPoD9j"
   },
   "outputs": [],
   "source": [
    "class Conv1D_DTW(tf.keras.layers.Conv1D):\n",
    "    def call(self, inputs):\n",
    "        mat_allign = tf.reshape(tf_function(inputs, self.kernel), tf.shape(kernel))\n",
    "        input_allign = tf.linalg.matmul(mat_allign, self.kernel)\n",
    "        result = self.convolution_op(\n",
    "             inputs, input_allign\n",
    "        )\n",
    "        if self.use_bias:\n",
    "            result = result + self.bias\n",
    "        return result\n"
   ]
  },
  {
   "cell_type": "markdown",
   "metadata": {
    "id": "_B2uOaa8T37g"
   },
   "source": [
    " ## Test"
   ]
  },
  {
   "cell_type": "code",
   "execution_count": 278,
   "metadata": {
    "executionInfo": {
     "elapsed": 203,
     "status": "ok",
     "timestamp": 1646728849870,
     "user": {
      "displayName": "Clément Caillard",
      "photoUrl": "https://lh3.googleusercontent.com/a/default-user=s64",
      "userId": "13950618441165314953"
     },
     "user_tz": -60
    },
    "id": "NjV7cTYgT3eS"
   },
   "outputs": [],
   "source": [
    "import numpy as np\n",
    "from tensorflow.keras import Sequential\n",
    "from tensorflow.keras.layers import Dense, InputLayer, Flatten, Conv1D\n",
    "from tensorflow.keras.utils import to_categorical\n",
    "\n",
    "\n",
    "randi = np.random.random((300, 50, 2))\n",
    "y_train = np.random.randint(1, 3, 300)\n",
    "y_train = to_categorical(y_train)"
   ]
  },
  {
   "cell_type": "code",
   "execution_count": null,
   "metadata": {
    "scrolled": true
   },
   "outputs": [],
   "source": []
  },
  {
   "cell_type": "code",
   "execution_count": 289,
   "metadata": {
    "colab": {
     "base_uri": "https://localhost:8080/",
     "height": 655
    },
    "executionInfo": {
     "elapsed": 3801,
     "status": "error",
     "timestamp": 1646728873426,
     "user": {
      "displayName": "Clément Caillard",
      "photoUrl": "https://lh3.googleusercontent.com/a/default-user=s64",
      "userId": "13950618441165314953"
     },
     "user_tz": -60
    },
    "id": "glV3vPCGTHlL",
    "outputId": "952cb5c7-f78a-4cbc-b96a-44e6676101f4"
   },
   "outputs": [
    {
     "name": "stdout",
     "output_type": "stream",
     "text": [
      "Model: \"sequential_102\"\n",
      "_________________________________________________________________\n",
      " Layer (type)                Output Shape              Param #   \n",
      "=================================================================\n",
      " dwa_cnn_np_65 (DWA_CNN_np)  (None, 49, 5)             25        \n",
      "                                                                 \n",
      " flatten_102 (Flatten)       (None, 245)               0         \n",
      "                                                                 \n",
      " dense_102 (Dense)           (None, 3)                 738       \n",
      "                                                                 \n",
      "=================================================================\n",
      "Total params: 763\n",
      "Trainable params: 763\n",
      "Non-trainable params: 0\n",
      "_________________________________________________________________\n",
      "Epoch 1/3\n",
      "10/10 [==============================] - 43s 3s/step - loss: 1.0265 - accuracy: 0.5167\n",
      "Epoch 2/3\n",
      "10/10 [==============================] - 29s 3s/step - loss: 0.8200 - accuracy: 0.4867\n",
      "Epoch 3/3\n",
      "10/10 [==============================] - 28s 3s/step - loss: 0.7652 - accuracy: 0.4833\n",
      "CPU times: total: 2min\n",
      "Wall time: 1min 46s\n"
     ]
    },
    {
     "data": {
      "text/plain": [
       "<keras.callbacks.History at 0x1beee0a5fa0>"
      ]
     },
     "execution_count": 289,
     "metadata": {},
     "output_type": "execute_result"
    }
   ],
   "source": [
    "%%time\n",
    "\n",
    "tf.random.set_seed(1234)\n",
    "model = Sequential([\n",
    "    InputLayer(randi.shape[1:]),\n",
    "    DWA_CNN_np(5, 2),\n",
    "    Flatten(),\n",
    "    Dense(3, activation='softmax')\n",
    "])\n",
    "\n",
    "model.summary()\n",
    "model.compile(loss='categorical_crossentropy', metrics='accuracy')\n",
    "\n",
    "\n",
    "model.fit(randi, y_train, epochs=3)"
   ]
  },
  {
   "cell_type": "code",
   "execution_count": 290,
   "metadata": {
    "colab": {
     "base_uri": "https://localhost:8080/"
    },
    "executionInfo": {
     "elapsed": 408875,
     "status": "ok",
     "timestamp": 1646729299241,
     "user": {
      "displayName": "Clément Caillard",
      "photoUrl": "https://lh3.googleusercontent.com/a/default-user=s64",
      "userId": "13950618441165314953"
     },
     "user_tz": -60
    },
    "id": "arUkUFfPTdWd",
    "outputId": "d8db8dc8-926d-4f07-864e-d8d3ee815c25"
   },
   "outputs": [
    {
     "name": "stdout",
     "output_type": "stream",
     "text": [
      "Model: \"sequential_103\"\n",
      "_________________________________________________________________\n",
      " Layer (type)                Output Shape              Param #   \n",
      "=================================================================\n",
      " dwa_cnn_12 (DWA_CNN)        (None, 49, 5)             25        \n",
      "                                                                 \n",
      " flatten_103 (Flatten)       (None, 245)               0         \n",
      "                                                                 \n",
      " dense_103 (Dense)           (None, 3)                 738       \n",
      "                                                                 \n",
      "=================================================================\n",
      "Total params: 763\n",
      "Trainable params: 763\n",
      "Non-trainable params: 0\n",
      "_________________________________________________________________\n",
      "Epoch 1/3\n",
      "10/10 [==============================] - 127s 4s/step - loss: 1.0265 - accuracy: 0.5167\n",
      "Epoch 2/3\n",
      "10/10 [==============================] - 32s 3s/step - loss: 0.8200 - accuracy: 0.4867\n",
      "Epoch 3/3\n",
      "10/10 [==============================] - 28s 3s/step - loss: 0.7652 - accuracy: 0.4833\n",
      "CPU times: total: 5min 37s\n",
      "Wall time: 3min 11s\n"
     ]
    },
    {
     "data": {
      "text/plain": [
       "<keras.callbacks.History at 0x1be69e3f910>"
      ]
     },
     "execution_count": 290,
     "metadata": {},
     "output_type": "execute_result"
    }
   ],
   "source": [
    "%%time\n",
    "\n",
    "tf.random.set_seed(1234)\n",
    "model_tensor = Sequential([\n",
    "    InputLayer(randi.shape[1:]),\n",
    "    DWA_CNN(5, 2),\n",
    "    Flatten(),\n",
    "    Dense(3, activation='softmax')\n",
    "])\n",
    "\n",
    "model_tensor.summary()\n",
    "model_tensor.compile(loss='categorical_crossentropy', metrics='accuracy')\n",
    "\n",
    "model_tensor.fit(randi, y_train, epochs=3)"
   ]
  },
  {
   "cell_type": "code",
   "execution_count": 254,
   "metadata": {},
   "outputs": [
    {
     "ename": "NameError",
     "evalue": "name 'DWA_CNN_test' is not defined",
     "output_type": "error",
     "traceback": [
      "\u001b[1;31m---------------------------------------------------------------------------\u001b[0m",
      "\u001b[1;31mNameError\u001b[0m                                 Traceback (most recent call last)",
      "File \u001b[1;32m<timed exec>:4\u001b[0m, in \u001b[0;36m<module>\u001b[1;34m\u001b[0m\n",
      "\u001b[1;31mNameError\u001b[0m: name 'DWA_CNN_test' is not defined"
     ]
    }
   ],
   "source": [
    "%%time\n",
    "\n",
    "tf.random.set_seed(1234)\n",
    "model_tensor = Sequential([\n",
    "    InputLayer(randi.shape[1:]),\n",
    "    DWA_CNN_test(5, 2),\n",
    "    Flatten(),\n",
    "    Dense(3, activation='softmax')\n",
    "])\n",
    "\n",
    "model_tensor.summary()\n",
    "model_tensor.compile(loss='categorical_crossentropy', metrics='accuracy')\n",
    "\n",
    "model_tensor.fit(randi, y_train, epochs=3)"
   ]
  },
  {
   "cell_type": "code",
   "execution_count": 167,
   "metadata": {
    "colab": {
     "base_uri": "https://localhost:8080/"
    },
    "executionInfo": {
     "elapsed": 268,
     "status": "ok",
     "timestamp": 1646649527296,
     "user": {
      "displayName": "Clément Caillard",
      "photoUrl": "https://lh3.googleusercontent.com/a/default-user=s64",
      "userId": "13950618441165314953"
     },
     "user_tz": -60
    },
    "id": "pwtc9Jdw8G9u",
    "outputId": "e0b10f19-a5c9-4ab9-d104-914505255607"
   },
   "outputs": [
    {
     "data": {
      "text/plain": [
       "(1, 1)"
      ]
     },
     "execution_count": 167,
     "metadata": {},
     "output_type": "execute_result"
    }
   ],
   "source": []
  },
  {
   "cell_type": "code",
   "execution_count": null,
   "metadata": {
    "id": "7Mo_dF1GCw3c"
   },
   "outputs": [],
   "source": [
    "# Classique convolution\n",
    "def convolution_1D(inputs, weights):\n",
    "    inputs = tf.reshape(tf.squeeze(inputs))\n",
    "    output_list = []\n",
    "    output_list.append(tf.math.reduce_sum(tf.linalg.matmul(inputs[j:j + weights.shape[0]], weights), axis=[0,1]))\n",
    "    output_final = tf.stack(output_list)\n",
    "    return output_final\n",
    "\n",
    "\n",
    "class CNN1D(tf.keras.layers.Layer):\n",
    "    def __init__(self, n_filters=8, kernel_size=3):\n",
    "        super(CNN1D, self).__init__()\n",
    "        self.n_filters = n_filters\n",
    "        self.kernel_size = kernel_size\n",
    "        self.b = self.add_weight(shape=(n_filters,), initializer=\"zeros\", trainable=True)\n",
    "\n",
    "    def build(self, input_shape):\n",
    "        self.w = self.add_weight(\n",
    "            shape=(self.kernel_size, int(input_shape[-1]), self.n_filters),\n",
    "            initializer=\"glorot_uniform\", trainable=True\n",
    "        )\n",
    "\n",
    "    def call(self, inputs):\n",
    "        output = tf.map_fn(lambda inp: convolution_1D(inp, self.w) + self.b,\n",
    "                           tf.image.extract_patches(images=inputs,\n",
    "                           sizes=[tf.shape(inputs)[0], 1, self.kernel_size, 1],\n",
    "                           strides=[1, 1, 1, 1],\n",
    "                           rates=[1, 1, 1, 1],\n",
    "                           padding='VALID')\n",
    ")\n",
    "        return tf.nn.relu(output)"
   ]
  },
  {
   "cell_type": "code",
   "execution_count": 291,
   "metadata": {
    "colab": {
     "base_uri": "https://localhost:8080/"
    },
    "executionInfo": {
     "elapsed": 4358,
     "status": "ok",
     "timestamp": 1646664621064,
     "user": {
      "displayName": "Clément Caillard",
      "photoUrl": "https://lh3.googleusercontent.com/a/default-user=s64",
      "userId": "13950618441165314953"
     },
     "user_tz": -60
    },
    "id": "aKFoByR3h-S6",
    "outputId": "60b39136-0220-4e8d-9f25-8d4cddf10802"
   },
   "outputs": [
    {
     "name": "stdout",
     "output_type": "stream",
     "text": [
      "Model: \"sequential_104\"\n",
      "_________________________________________________________________\n",
      " Layer (type)                Output Shape              Param #   \n",
      "=================================================================\n",
      " cnn1d_17 (CNN1D)            (None, 49, 5)             25        \n",
      "                                                                 \n",
      " flatten_104 (Flatten)       (None, 245)               0         \n",
      "                                                                 \n",
      " dense_104 (Dense)           (None, 3)                 738       \n",
      "                                                                 \n",
      "=================================================================\n",
      "Total params: 763\n",
      "Trainable params: 763\n",
      "Non-trainable params: 0\n",
      "_________________________________________________________________\n",
      "Epoch 1/3\n",
      "10/10 [==============================] - 15s 48ms/step - loss: 1.1097 - accuracy: 0.4767\n",
      "Epoch 2/3\n",
      "10/10 [==============================] - 0s 39ms/step - loss: 0.8039 - accuracy: 0.4867\n",
      "Epoch 3/3\n",
      "10/10 [==============================] - 0s 41ms/step - loss: 0.7707 - accuracy: 0.4733\n",
      "CPU times: total: 14.3 s\n",
      "Wall time: 28.6 s\n"
     ]
    },
    {
     "data": {
      "text/plain": [
       "<keras.callbacks.History at 0x1bf303defd0>"
      ]
     },
     "execution_count": 291,
     "metadata": {},
     "output_type": "execute_result"
    }
   ],
   "source": [
    "%%time\n",
    "tf.random.set_seed(1234)\n",
    "model_tensor = Sequential([\n",
    "    InputLayer(randi.shape[1:]),\n",
    "    CNN1D(5, 2),\n",
    "    Flatten(),\n",
    "    Dense(3, activation='softmax')\n",
    "])\n",
    "\n",
    "model_tensor.summary()\n",
    "model_tensor.compile(loss='categorical_crossentropy', metrics='accuracy')\n",
    "\n",
    "model_tensor.fit(randi, y_train, epochs=3)"
   ]
  },
  {
   "cell_type": "code",
   "execution_count": 292,
   "metadata": {
    "colab": {
     "base_uri": "https://localhost:8080/"
    },
    "executionInfo": {
     "elapsed": 191,
     "status": "ok",
     "timestamp": 1646667378438,
     "user": {
      "displayName": "Clément Caillard",
      "photoUrl": "https://lh3.googleusercontent.com/a/default-user=s64",
      "userId": "13950618441165314953"
     },
     "user_tz": -60
    },
    "id": "GTnBanQ86bom",
    "outputId": "fde13dda-ea1f-4e0d-9b6c-c0e68b8124ec"
   },
   "outputs": [
    {
     "name": "stdout",
     "output_type": "stream",
     "text": [
      "Model: \"sequential_105\"\n",
      "_________________________________________________________________\n",
      " Layer (type)                Output Shape              Param #   \n",
      "=================================================================\n",
      " conv1d_8 (Conv1D)           (None, 49, 5)             25        \n",
      "                                                                 \n",
      " flatten_105 (Flatten)       (None, 245)               0         \n",
      "                                                                 \n",
      " dense_105 (Dense)           (None, 3)                 738       \n",
      "                                                                 \n",
      "=================================================================\n",
      "Total params: 763\n",
      "Trainable params: 763\n",
      "Non-trainable params: 0\n",
      "_________________________________________________________________\n",
      "Epoch 1/3\n",
      "10/10 [==============================] - 1s 3ms/step - loss: 1.0265 - accuracy: 0.5167\n",
      "Epoch 2/3\n",
      "10/10 [==============================] - 0s 2ms/step - loss: 0.8200 - accuracy: 0.4867\n",
      "Epoch 3/3\n",
      "10/10 [==============================] - 0s 4ms/step - loss: 0.7652 - accuracy: 0.4833\n",
      "CPU times: total: 766 ms\n",
      "Wall time: 1.39 s\n"
     ]
    },
    {
     "data": {
      "text/plain": [
       "<keras.callbacks.History at 0x1bf41b77d00>"
      ]
     },
     "execution_count": 292,
     "metadata": {},
     "output_type": "execute_result"
    }
   ],
   "source": [
    "%%time\n",
    "tf.random.set_seed(1234)\n",
    "model_tensor = Sequential([\n",
    "    InputLayer(randi.shape[1:]),\n",
    "    Conv1D(5, 2, activation='relu'),\n",
    "    Flatten(),\n",
    "    Dense(3, activation='softmax')\n",
    "])\n",
    "\n",
    "model_tensor.summary()\n",
    "model_tensor.compile(loss='categorical_crossentropy', metrics='accuracy')\n",
    "\n",
    "model_tensor.fit(randi, y_train, epochs=3)"
   ]
  },
  {
   "cell_type": "code",
   "execution_count": null,
   "metadata": {
    "colab": {
     "base_uri": "https://localhost:8080/"
    },
    "executionInfo": {
     "elapsed": 233,
     "status": "ok",
     "timestamp": 1646649750671,
     "user": {
      "displayName": "Clément Caillard",
      "photoUrl": "https://lh3.googleusercontent.com/a/default-user=s64",
      "userId": "13950618441165314953"
     },
     "user_tz": -60
    },
    "id": "_UTvfaeeWAi7",
    "outputId": "529b6c14-f25e-47f7-e0bf-8f640170d2e8"
   },
   "outputs": [
    {
     "name": "stdout",
     "output_type": "stream",
     "text": [
      "[ 0  1  2  3  4  4  5  6  7  8  9 10 11]\n",
      "tf.Tensor(\n",
      "[[1. 0. 0. 0. 0. 0. 0. 0. 0. 0. 0. 0.]\n",
      " [0. 1. 0. 0. 0. 0. 0. 0. 0. 0. 0. 0.]\n",
      " [0. 0. 1. 0. 0. 0. 0. 0. 0. 0. 0. 0.]\n",
      " [0. 0. 0. 1. 0. 0. 0. 0. 0. 0. 0. 0.]\n",
      " [0. 0. 0. 0. 1. 1. 0. 0. 0. 0. 0. 0.]\n",
      " [0. 0. 0. 0. 0. 0. 1. 0. 0. 0. 0. 0.]\n",
      " [0. 0. 0. 0. 0. 0. 0. 1. 0. 0. 0. 0.]\n",
      " [0. 0. 0. 0. 0. 0. 0. 0. 1. 0. 0. 0.]\n",
      " [0. 0. 0. 0. 0. 0. 0. 0. 0. 1. 0. 0.]\n",
      " [0. 0. 0. 0. 0. 0. 0. 0. 0. 1. 0. 0.]\n",
      " [0. 0. 0. 0. 0. 0. 0. 0. 0. 0. 1. 0.]\n",
      " [0. 0. 0. 0. 0. 0. 0. 0. 0. 0. 0. 1.]], shape=(12, 12), dtype=float32)\n",
      "[[1. 0. 0. 0. 0. 0. 0. 0. 0. 0. 0. 0.]\n",
      " [0. 1. 0. 0. 0. 0. 0. 0. 0. 0. 0. 0.]\n",
      " [0. 0. 1. 0. 0. 0. 0. 0. 0. 0. 0. 0.]\n",
      " [0. 0. 0. 1. 0. 0. 0. 0. 0. 0. 0. 0.]\n",
      " [0. 0. 0. 0. 1. 1. 0. 0. 0. 0. 0. 0.]\n",
      " [0. 0. 0. 0. 0. 0. 1. 0. 0. 0. 0. 0.]\n",
      " [0. 0. 0. 0. 0. 0. 0. 1. 0. 0. 0. 0.]\n",
      " [0. 0. 0. 0. 0. 0. 0. 0. 1. 0. 0. 0.]\n",
      " [0. 0. 0. 0. 0. 0. 0. 0. 0. 1. 0. 0.]\n",
      " [0. 0. 0. 0. 0. 0. 0. 0. 0. 1. 0. 0.]\n",
      " [0. 0. 0. 0. 0. 0. 0. 0. 0. 0. 1. 0.]\n",
      " [0. 0. 0. 0. 0. 0. 0. 0. 0. 0. 0. 1.]]\n"
     ]
    }
   ],
   "source": [
    "S = [1, 3, 3, 3, 2, 0, 1]\n",
    "S1 = [0, 1, 3, 2, 2, 0, 1]\n",
    "S = randi[1]\n",
    "S1 = randi[2]\n",
    "\n",
    "# distance = dtw.distance(S, S1)\n",
    "# print(distance)\n",
    "print(dtw(S,S1, step_pattern=\"symmetric1\").index1)\n",
    "\n",
    "S = tf.convert_to_tensor(S)\n",
    "S1 = tf.convert_to_tensor(S1)\n",
    "print(tf.sparse.to_dense(DTW_TF(S, S1)))\n",
    "print(dtw_path(S, S1))"
   ]
  }
 ],
 "metadata": {
  "accelerator": "GPU",
  "colab": {
   "authorship_tag": "ABX9TyNesaicy70YnYsgftaVmnHj",
   "collapsed_sections": [],
   "name": "Untitled3.ipynb",
   "provenance": [],
   "toc_visible": true
  },
  "kernelspec": {
   "display_name": "StageEnv",
   "language": "python",
   "name": "stageenv"
  },
  "language_info": {
   "codemirror_mode": {
    "name": "ipython",
    "version": 3
   },
   "file_extension": ".py",
   "mimetype": "text/x-python",
   "name": "python",
   "nbconvert_exporter": "python",
   "pygments_lexer": "ipython3",
   "version": "3.8.12"
  }
 },
 "nbformat": 4,
 "nbformat_minor": 1
}
