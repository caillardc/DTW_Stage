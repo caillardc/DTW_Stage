{
 "cells": [
  {
   "cell_type": "code",
   "execution_count": 1,
   "id": "591dbc50",
   "metadata": {},
   "outputs": [
    {
     "name": "stdout",
     "output_type": "stream",
     "text": [
      "Importing the dtw module. When using in academic works please cite:\n",
      "  T. Giorgino. Computing and Visualizing Dynamic Time Warping Alignments in R: The dtw Package.\n",
      "  J. Stat. Soft., doi:10.18637/jss.v031.i07.\n",
      "\n"
     ]
    }
   ],
   "source": [
    "from tslearn.datasets import UCR_UEA_datasets\n",
    "from tensorflow.keras import Sequential, Model\n",
    "from tensorflow.keras.layers import Dense, Input, Flatten, Conv1D\n",
    "from tensorflow.keras.utils import to_categorical\n",
    "import tensorflow as tf\n",
    "import numpy as np\n",
    "import os\n",
    "from CLayer.CLayer import *\n",
    "\n",
    "X_train, y_train, X_test, y_test = UCR_UEA_datasets().load_dataset('ArrowHead')"
   ]
  },
  {
   "cell_type": "code",
   "execution_count": 2,
   "id": "6f9a0bb0",
   "metadata": {},
   "outputs": [],
   "source": [
    "from tensorflow.keras.utils import to_categorical\n",
    "\n",
    "y_train = to_categorical(y_train)\n",
    "y_test = to_categorical(y_test)"
   ]
  },
  {
   "cell_type": "code",
   "execution_count": 7,
   "id": "16de3961",
   "metadata": {},
   "outputs": [
    {
     "name": "stdout",
     "output_type": "stream",
     "text": [
      "Model: \"model_3\"\n",
      "_________________________________________________________________\n",
      " Layer (type)                Output Shape              Param #   \n",
      "=================================================================\n",
      " input_5 (InputLayer)        [(None, 251, 1)]          0         \n",
      "                                                                 \n",
      " conv1d_1 (Conv1D)           (None, 243, 10)           100       \n",
      "                                                                 \n",
      " flatten_3 (Flatten)         (None, 2430)              0         \n",
      "                                                                 \n",
      " dense_3 (Dense)             (None, 3)                 7293      \n",
      "                                                                 \n",
      "=================================================================\n",
      "Total params: 7,393\n",
      "Trainable params: 7,393\n",
      "Non-trainable params: 0\n",
      "_________________________________________________________________\n",
      "Epoch 1/10\n",
      "1/1 [==============================] - 1s 672ms/step - loss: 1.2125 - accuracy: 0.3333 - val_loss: 1.4924 - val_accuracy: 0.2971\n",
      "Epoch 2/10\n",
      "1/1 [==============================] - 0s 35ms/step - loss: 1.3519 - accuracy: 0.3056 - val_loss: 0.9828 - val_accuracy: 0.6057\n",
      "Epoch 3/10\n",
      "1/1 [==============================] - 0s 36ms/step - loss: 0.9418 - accuracy: 0.6389 - val_loss: 0.9661 - val_accuracy: 0.4629\n",
      "Epoch 4/10\n",
      "1/1 [==============================] - 0s 36ms/step - loss: 0.8593 - accuracy: 0.7222 - val_loss: 0.9188 - val_accuracy: 0.5829\n",
      "Epoch 5/10\n",
      "1/1 [==============================] - 0s 38ms/step - loss: 0.7996 - accuracy: 0.6667 - val_loss: 0.9138 - val_accuracy: 0.5200\n",
      "Epoch 6/10\n",
      "1/1 [==============================] - 0s 38ms/step - loss: 0.7718 - accuracy: 0.6667 - val_loss: 0.9822 - val_accuracy: 0.5029\n",
      "Epoch 7/10\n",
      "1/1 [==============================] - 0s 37ms/step - loss: 0.7932 - accuracy: 0.6111 - val_loss: 0.9191 - val_accuracy: 0.5257\n",
      "Epoch 8/10\n",
      "1/1 [==============================] - 0s 39ms/step - loss: 0.7634 - accuracy: 0.6389 - val_loss: 0.8949 - val_accuracy: 0.5600\n",
      "Epoch 9/10\n",
      "1/1 [==============================] - 0s 38ms/step - loss: 0.6970 - accuracy: 0.6944 - val_loss: 0.8535 - val_accuracy: 0.5771\n",
      "Epoch 10/10\n",
      "1/1 [==============================] - 0s 48ms/step - loss: 0.6553 - accuracy: 0.7222 - val_loss: 0.8486 - val_accuracy: 0.6286\n",
      "CPU times: total: 1.31 s\n",
      "Wall time: 1.18 s\n"
     ]
    },
    {
     "data": {
      "text/plain": [
       "<keras.callbacks.History at 0x1ae9b2d1df0>"
      ]
     },
     "execution_count": 7,
     "metadata": {},
     "output_type": "execute_result"
    }
   ],
   "source": [
    "%%time\n",
    "tf.random.set_seed(1234)\n",
    "\n",
    "input_layer =  Input(X_train.shape[1:])\n",
    "conv_layer = Conv1D(10,9, activation='relu')(input_layer)\n",
    "flatten = Flatten()(conv_layer)\n",
    "output_layer = Dense(3, activation='softmax')(flatten)   \n",
    "model = Model(input_layer,output_layer)\n",
    "\n",
    "model.summary()\n",
    "model.compile(loss='categorical_crossentropy', metrics=['accuracy'])\n",
    "model.fit(X_train, y_train, epochs=10, validation_data=[X_test, y_test])"
   ]
  },
  {
   "cell_type": "code",
   "execution_count": 6,
   "id": "4596aa03",
   "metadata": {},
   "outputs": [
    {
     "name": "stdout",
     "output_type": "stream",
     "text": [
      "Model: \"model_2\"\n",
      "_________________________________________________________________\n",
      " Layer (type)                Output Shape              Param #   \n",
      "=================================================================\n",
      " input_4 (InputLayer)        [(None, 251, 1)]          0         \n",
      "                                                                 \n",
      " dwa_cnn_np_1 (DWA_CNN_np)   (None, 243, 10)           100       \n",
      "                                                                 \n",
      " flatten_2 (Flatten)         (None, 2430)              0         \n",
      "                                                                 \n",
      " dense_2 (Dense)             (None, 3)                 7293      \n",
      "                                                                 \n",
      "=================================================================\n",
      "Total params: 7,393\n",
      "Trainable params: 7,393\n",
      "Non-trainable params: 0\n",
      "_________________________________________________________________\n",
      "Epoch 1/10\n",
      "1/1 [==============================] - 275s 275s/step - loss: 1.3579 - accuracy: 0.2500 - val_loss: 1.5957 - val_accuracy: 0.2629\n",
      "Epoch 2/10\n",
      "1/1 [==============================] - 284s 284s/step - loss: 1.4483 - accuracy: 0.2778 - val_loss: 0.9957 - val_accuracy: 0.5200\n",
      "Epoch 3/10\n",
      "1/1 [==============================] - 271s 271s/step - loss: 0.9538 - accuracy: 0.5000 - val_loss: 1.0141 - val_accuracy: 0.4400\n",
      "Epoch 4/10\n",
      "1/1 [==============================] - 313s 313s/step - loss: 0.8665 - accuracy: 0.6667 - val_loss: 0.9300 - val_accuracy: 0.5829\n",
      "Epoch 5/10\n",
      "1/1 [==============================] - 377s 377s/step - loss: 0.8023 - accuracy: 0.7222 - val_loss: 0.9598 - val_accuracy: 0.4800\n",
      "Epoch 6/10\n",
      "1/1 [==============================] - 749s 749s/step - loss: 0.7656 - accuracy: 0.6389 - val_loss: 0.9678 - val_accuracy: 0.4857\n",
      "Epoch 7/10\n",
      "1/1 [==============================] - 200s 200s/step - loss: 0.7731 - accuracy: 0.6111 - val_loss: 0.9528 - val_accuracy: 0.5086\n",
      "Epoch 8/10\n",
      "1/1 [==============================] - 185s 185s/step - loss: 0.7498 - accuracy: 0.6667 - val_loss: 0.9134 - val_accuracy: 0.5143\n",
      "Epoch 9/10\n",
      "1/1 [==============================] - 185s 185s/step - loss: 0.6854 - accuracy: 0.6944 - val_loss: 0.8749 - val_accuracy: 0.5429\n",
      "Epoch 10/10\n",
      "1/1 [==============================] - 188s 188s/step - loss: 0.6417 - accuracy: 0.6944 - val_loss: 0.8627 - val_accuracy: 0.5829\n",
      "CPU times: total: 56min 59s\n",
      "Wall time: 50min 28s\n"
     ]
    },
    {
     "data": {
      "text/plain": [
       "<keras.callbacks.History at 0x1ae97073ee0>"
      ]
     },
     "execution_count": 6,
     "metadata": {},
     "output_type": "execute_result"
    }
   ],
   "source": [
    "%%time\n",
    "tf.random.set_seed(1234)\n",
    "\n",
    "input_layer =  Input(X_train.shape[1:])\n",
    "conv_layer = DWA_CNN_np(10,9, activation='relu')(input_layer)\n",
    "flatten = Flatten()(conv_layer)\n",
    "output_layer = Dense(3, activation='softmax')(flatten)   \n",
    "model = Model(input_layer,output_layer)\n",
    "\n",
    "model.summary()\n",
    "model.compile(loss='categorical_crossentropy', metrics=['accuracy'])\n",
    "model.fit(X_train, y_train, epochs=10, validation_data=[X_test, y_test])"
   ]
  }
 ],
 "metadata": {
  "kernelspec": {
   "display_name": "StageEnv",
   "language": "python",
   "name": "stageenv"
  },
  "language_info": {
   "codemirror_mode": {
    "name": "ipython",
    "version": 3
   },
   "file_extension": ".py",
   "mimetype": "text/x-python",
   "name": "python",
   "nbconvert_exporter": "python",
   "pygments_lexer": "ipython3",
   "version": "3.8.12"
  }
 },
 "nbformat": 4,
 "nbformat_minor": 5
}
